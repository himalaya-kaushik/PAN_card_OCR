{
 "cells": [
  {
   "cell_type": "code",
   "execution_count": 1,
   "id": "abstract-belgium",
   "metadata": {},
   "outputs": [],
   "source": [
    "import re\n",
    "import cv2\n",
    "import pytesseract\n",
    "from pytesseract import Output\n",
    "pytesseract.pytesseract.tesseract_cmd =r'C:\\Program Files\\Tesseract-OCR\\tesseract.exe'"
   ]
  },
  {
   "cell_type": "code",
   "execution_count": 24,
   "id": "domestic-juice",
   "metadata": {},
   "outputs": [
    {
     "data": {
      "text/plain": [
       "'0'"
      ]
     },
     "execution_count": 24,
     "metadata": {},
     "output_type": "execute_result"
    }
   ],
   "source": [
    "imPath='C:\\\\Users\\\\user\\\\Desktop\\\\d2.jpg'\n",
    "im = cv2.imread(str(imPath), cv2.IMREAD_COLOR)\n",
    "newdata=pytesseract.image_to_osd(im)\n",
    "re.search('(?<=Rotate: )\\d+', newdata).group(0)"
   ]
  },
  {
   "cell_type": "code",
   "execution_count": 25,
   "id": "historical-israel",
   "metadata": {},
   "outputs": [],
   "source": [
    "def rotate(image, center = None, scale = 1.0):\n",
    "    angle=360-int(re.search('(?<=Rotate: )\\d+', pytesseract.image_to_osd(image)).group(0))\n",
    "    (h, w) = im.shape[:2]\n",
    "\n",
    "    if center is None:\n",
    "        center = (w / 2, h / 2)\n",
    "\n",
    "    # Perform the rotation\n",
    "    M = cv2.getRotationMatrix2D(center, angle, scale)\n",
    "    rotated = cv2.warpAffine(image, M, (w, h))\n",
    "\n",
    "    return rotated"
   ]
  },
  {
   "cell_type": "code",
   "execution_count": 26,
   "id": "pretty-vietnamese",
   "metadata": {},
   "outputs": [],
   "source": [
    "new_image=rotate(im)"
   ]
  },
  {
   "cell_type": "code",
   "execution_count": 27,
   "id": "abandoned-authorization",
   "metadata": {},
   "outputs": [],
   "source": [
    "\n",
    "\n",
    "\n",
    "\n",
    "#image = cv2.imread('C:\\\\Users\\\\user\\\\Desktop\\\\d3.jpg')#converting image into gray scale image\n",
    "# gray_image = cv2.cvtColor(image, cv2.COLOR_BGR2GRAY)\n",
    "d = pytesseract.image_to_data(new_image, output_type=Output.DICT)\n",
    "keys = list(d.keys())\n",
    "\n",
    "date_pattern = '^(0[1-9]|[12][0-9]|3[01])/(0[1-9]|1[012])/(19|20)\\d\\d$'\n",
    "regex = \"^(?=.*[a-zA-Z])(?=.*[0-9])[A-Za-z0-9]+$\"\n",
    "\n",
    "n_boxes = len(d['text'])\n",
    "for i in range(n_boxes):\n",
    "    if int(d['conf'][i]) > 60:\n",
    "    \tif re.match(date_pattern, d['text'][i]):\n",
    "\t        (x, y, w, h) = (d['left'][i], d['top'][i], d['width'][i], d['height'][i])\n",
    "\t        img = cv2.rectangle(new_image, (x, y), (x + w, y + h), (0, 255, 0), 2)\n",
    "\n",
    "n_boxes = len(d['text'])\n",
    "for i in range(n_boxes):\n",
    "    if int(d['conf'][i]) > 50:\n",
    "    \tif re.match(regex, d['text'][i]):\n",
    "\t        (x1, y1, w1, h1) = (d['left'][i], d['top'][i], d['width'][i], d['height'][i])\n",
    "\t        img = cv2.rectangle(new_image, (x1, y1), (x1 + w1, y1 + h1), (0, 255, 0), 2)\n",
    "\n",
    "cv2.imshow('img', new_image)\n",
    "cv2.waitKey(0)\n",
    "cv2.destroyAllWindows()"
   ]
  },
  {
   "cell_type": "code",
   "execution_count": 28,
   "id": "decimal-lightning",
   "metadata": {},
   "outputs": [],
   "source": [
    "import numpy as np\n",
    "mask = np.zeros(new_image.shape[:2], dtype=\"uint8\")\n",
    "cv2.rectangle(mask, (x, y), (x+w, y+h), 255, -1)\n",
    "#cv2.imshow(\"Rectangular Mask\", mask)\n",
    "masked1 = cv2.bitwise_and(new_image, new_image, mask=mask)\n",
    "cv2.imshow(\"Mask Applied to Image\", masked1)\n",
    "\n",
    "cv2.waitKey(0)\n",
    "cv2.destroyAllWindows()\n"
   ]
  },
  {
   "cell_type": "code",
   "execution_count": 29,
   "id": "compact-entertainment",
   "metadata": {},
   "outputs": [],
   "source": [
    "import numpy as np\n",
    "mask = np.zeros(new_image.shape[:2], dtype=\"uint8\")\n",
    "cv2.rectangle(mask, (x1, y1), (x1+w1, y1+h1), 255, -1)\n",
    "#cv2.imshow(\"Rectangular Mask\", mask)\n",
    "masked2 = cv2.bitwise_and(new_image, new_image, mask=mask)\n",
    "cv2.imshow(\"Mask Applied to Image\", masked2)\n",
    "cv2.waitKey(0)\n",
    "cv2.destroyAllWindows()"
   ]
  },
  {
   "cell_type": "code",
   "execution_count": 30,
   "id": "nuclear-zealand",
   "metadata": {},
   "outputs": [],
   "source": [
    "import easyocr"
   ]
  },
  {
   "cell_type": "code",
   "execution_count": 31,
   "id": "responsible-affair",
   "metadata": {},
   "outputs": [
    {
     "name": "stderr",
     "output_type": "stream",
     "text": [
      "CUDA not available - defaulting to CPU. Note: This module is much faster with a GPU.\n"
     ]
    },
    {
     "data": {
      "text/plain": [
       "[([[103, 827], [203, 827], [203, 843], [103, 843]],\n",
       "  '13/09/1996',\n",
       "  0.8406323744567188)]"
      ]
     },
     "execution_count": 31,
     "metadata": {},
     "output_type": "execute_result"
    }
   ],
   "source": [
    "reader = easyocr.Reader(['en'])\n",
    "result = reader.readtext(masked1)\n",
    "result"
   ]
  },
  {
   "cell_type": "code",
   "execution_count": 32,
   "id": "bronze-trailer",
   "metadata": {},
   "outputs": [
    {
     "name": "stdout",
     "output_type": "stream",
     "text": [
      "13/09/1996\n"
     ]
    }
   ],
   "source": [
    "print(result[0][-2])"
   ]
  },
  {
   "cell_type": "code",
   "execution_count": 33,
   "id": "computational-hungary",
   "metadata": {},
   "outputs": [
    {
     "name": "stderr",
     "output_type": "stream",
     "text": [
      "CUDA not available - defaulting to CPU. Note: This module is much faster with a GPU.\n"
     ]
    },
    {
     "name": "stdout",
     "output_type": "stream",
     "text": [
      "BXAPC1OOOL\n"
     ]
    }
   ],
   "source": [
    "readerPAN = easyocr.Reader(['en'])\n",
    "resultPAN = reader.readtext(masked2)\n",
    "print(resultPAN[0][-2])"
   ]
  },
  {
   "cell_type": "code",
   "execution_count": null,
   "id": "portable-harris",
   "metadata": {},
   "outputs": [],
   "source": []
  }
 ],
 "metadata": {
  "kernelspec": {
   "display_name": "Python 3",
   "language": "python",
   "name": "python3"
  },
  "language_info": {
   "codemirror_mode": {
    "name": "ipython",
    "version": 3
   },
   "file_extension": ".py",
   "mimetype": "text/x-python",
   "name": "python",
   "nbconvert_exporter": "python",
   "pygments_lexer": "ipython3",
   "version": "3.6.12"
  }
 },
 "nbformat": 4,
 "nbformat_minor": 5
}
